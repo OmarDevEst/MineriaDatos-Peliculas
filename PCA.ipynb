{
 "cells": [
  {
   "cell_type": "code",
   "execution_count": 1,
   "id": "e0e1e78f",
   "metadata": {},
   "outputs": [],
   "source": [
    "import pandas as pd\n",
    "import numpy as np\n",
    "import matplotlib.pyplot as plt\n",
    "from sklearn.preprocessing import StandardScaler\n"
   ]
  },
  {
   "cell_type": "code",
   "execution_count": 2,
   "id": "3c795844",
   "metadata": {},
   "outputs": [
    {
     "data": {
      "text/html": [
       "<div>\n",
       "<style scoped>\n",
       "    .dataframe tbody tr th:only-of-type {\n",
       "        vertical-align: middle;\n",
       "    }\n",
       "\n",
       "    .dataframe tbody tr th {\n",
       "        vertical-align: top;\n",
       "    }\n",
       "\n",
       "    .dataframe thead th {\n",
       "        text-align: right;\n",
       "    }\n",
       "</style>\n",
       "<table border=\"1\" class=\"dataframe\">\n",
       "  <thead>\n",
       "    <tr style=\"text-align: right;\">\n",
       "      <th></th>\n",
       "      <th>MOVIE</th>\n",
       "      <th>TOTAL FOR YEAR</th>\n",
       "      <th>TOTAL IN 2019 DOLLARS</th>\n",
       "      <th>TICKETS SOLD</th>\n",
       "    </tr>\n",
       "  </thead>\n",
       "  <tbody>\n",
       "    <tr>\n",
       "      <th>0</th>\n",
       "      <td>Batman Forever</td>\n",
       "      <td>184031112.0</td>\n",
       "      <td>387522978.0</td>\n",
       "      <td>42306002.0</td>\n",
       "    </tr>\n",
       "    <tr>\n",
       "      <th>1</th>\n",
       "      <td>Independence Day</td>\n",
       "      <td>306169255.0</td>\n",
       "      <td>634504608.0</td>\n",
       "      <td>69269062.0</td>\n",
       "    </tr>\n",
       "    <tr>\n",
       "      <th>2</th>\n",
       "      <td>Men in Black</td>\n",
       "      <td>250650052.0</td>\n",
       "      <td>500207943.0</td>\n",
       "      <td>54607854.0</td>\n",
       "    </tr>\n",
       "    <tr>\n",
       "      <th>3</th>\n",
       "      <td>Titanic</td>\n",
       "      <td>443319081.0</td>\n",
       "      <td>865842808.0</td>\n",
       "      <td>94524324.0</td>\n",
       "    </tr>\n",
       "    <tr>\n",
       "      <th>4</th>\n",
       "      <td>Star Wars Ep. I: The Phantom Menace</td>\n",
       "      <td>430443350.0</td>\n",
       "      <td>776153749.0</td>\n",
       "      <td>84732942.0</td>\n",
       "    </tr>\n",
       "    <tr>\n",
       "      <th>5</th>\n",
       "      <td>How the Grinch Stole Christmas</td>\n",
       "      <td>253367455.0</td>\n",
       "      <td>430583644.0</td>\n",
       "      <td>47006948.0</td>\n",
       "    </tr>\n",
       "    <tr>\n",
       "      <th>6</th>\n",
       "      <td>Harry Potter and the Sorcerer’s Stone</td>\n",
       "      <td>300404434.0</td>\n",
       "      <td>486166890.0</td>\n",
       "      <td>53074988.0</td>\n",
       "    </tr>\n",
       "    <tr>\n",
       "      <th>7</th>\n",
       "      <td>Spider-Man</td>\n",
       "      <td>403706375.0</td>\n",
       "      <td>636480273.0</td>\n",
       "      <td>69484746.0</td>\n",
       "    </tr>\n",
       "    <tr>\n",
       "      <th>8</th>\n",
       "      <td>Finding Nemo</td>\n",
       "      <td>339714367.0</td>\n",
       "      <td>516050346.0</td>\n",
       "      <td>56337374.0</td>\n",
       "    </tr>\n",
       "    <tr>\n",
       "      <th>9</th>\n",
       "      <td>Shrek 2</td>\n",
       "      <td>441226247.0</td>\n",
       "      <td>650826473.0</td>\n",
       "      <td>71050925.0</td>\n",
       "    </tr>\n",
       "    <tr>\n",
       "      <th>10</th>\n",
       "      <td>Star Wars Ep. III: Revenge of the Sith</td>\n",
       "      <td>380270577.0</td>\n",
       "      <td>543413171.0</td>\n",
       "      <td>59324582.0</td>\n",
       "    </tr>\n",
       "    <tr>\n",
       "      <th>11</th>\n",
       "      <td>Pirates of the Caribbean: Dead Man’s Chest</td>\n",
       "      <td>423315812.0</td>\n",
       "      <td>591995851.0</td>\n",
       "      <td>64628368.0</td>\n",
       "    </tr>\n",
       "    <tr>\n",
       "      <th>12</th>\n",
       "      <td>Spider-Man 3</td>\n",
       "      <td>336530303.0</td>\n",
       "      <td>448054878.0</td>\n",
       "      <td>48914288.0</td>\n",
       "    </tr>\n",
       "    <tr>\n",
       "      <th>13</th>\n",
       "      <td>The Dark Knight</td>\n",
       "      <td>531001578.0</td>\n",
       "      <td>677433772.0</td>\n",
       "      <td>73955652.0</td>\n",
       "    </tr>\n",
       "    <tr>\n",
       "      <th>14</th>\n",
       "      <td>Transformers: Revenge of the Fallen</td>\n",
       "      <td>402111870.0</td>\n",
       "      <td>491112631.0</td>\n",
       "      <td>53614916.0</td>\n",
       "    </tr>\n",
       "    <tr>\n",
       "      <th>15</th>\n",
       "      <td>Toy Story 3</td>\n",
       "      <td>415004880.0</td>\n",
       "      <td>481805411.0</td>\n",
       "      <td>52598844.0</td>\n",
       "    </tr>\n",
       "    <tr>\n",
       "      <th>16</th>\n",
       "      <td>Harry Potter and the Deathly Hallows: Part II</td>\n",
       "      <td>381011219.0</td>\n",
       "      <td>440108798.0</td>\n",
       "      <td>48046812.0</td>\n",
       "    </tr>\n",
       "    <tr>\n",
       "      <th>17</th>\n",
       "      <td>The Avengers</td>\n",
       "      <td>623357910.0</td>\n",
       "      <td>717331462.0</td>\n",
       "      <td>78311295.0</td>\n",
       "    </tr>\n",
       "    <tr>\n",
       "      <th>18</th>\n",
       "      <td>Iron Man 3</td>\n",
       "      <td>408992272.0</td>\n",
       "      <td>460808016.0</td>\n",
       "      <td>50306552.0</td>\n",
       "    </tr>\n",
       "    <tr>\n",
       "      <th>19</th>\n",
       "      <td>Guardians of the Galaxy</td>\n",
       "      <td>333055258.0</td>\n",
       "      <td>373413235.0</td>\n",
       "      <td>40765637.0</td>\n",
       "    </tr>\n",
       "    <tr>\n",
       "      <th>20</th>\n",
       "      <td>Star Wars Ep. VII: The Force Awakens</td>\n",
       "      <td>742208942.0</td>\n",
       "      <td>806480887.0</td>\n",
       "      <td>88043765.0</td>\n",
       "    </tr>\n",
       "    <tr>\n",
       "      <th>21</th>\n",
       "      <td>Finding Dory</td>\n",
       "      <td>486295561.0</td>\n",
       "      <td>514967322.0</td>\n",
       "      <td>56219140.0</td>\n",
       "    </tr>\n",
       "    <tr>\n",
       "      <th>22</th>\n",
       "      <td>Star Wars Ep. VIII: The Last Jedi</td>\n",
       "      <td>517218368.0</td>\n",
       "      <td>528173936.0</td>\n",
       "      <td>57660910.0</td>\n",
       "    </tr>\n",
       "    <tr>\n",
       "      <th>23</th>\n",
       "      <td>Black Panther</td>\n",
       "      <td>700059566.0</td>\n",
       "      <td>703901821.0</td>\n",
       "      <td>76845177.0</td>\n",
       "    </tr>\n",
       "    <tr>\n",
       "      <th>24</th>\n",
       "      <td>Avengers: Endgame</td>\n",
       "      <td>858373000.0</td>\n",
       "      <td>858373002.0</td>\n",
       "      <td>93708843.0</td>\n",
       "    </tr>\n",
       "    <tr>\n",
       "      <th>25</th>\n",
       "      <td>Bad Boys For Life</td>\n",
       "      <td>204417855.0</td>\n",
       "      <td>204417848.0</td>\n",
       "      <td>22316359.0</td>\n",
       "    </tr>\n",
       "    <tr>\n",
       "      <th>26</th>\n",
       "      <td>Shang-Chi and the Legend of the Ten Rings</td>\n",
       "      <td>224226704.0</td>\n",
       "      <td>224226704.0</td>\n",
       "      <td>24478897.0</td>\n",
       "    </tr>\n",
       "  </tbody>\n",
       "</table>\n",
       "</div>"
      ],
      "text/plain": [
       "                                            MOVIE  TOTAL FOR YEAR  \\\n",
       "0                                  Batman Forever     184031112.0   \n",
       "1                                Independence Day     306169255.0   \n",
       "2                                    Men in Black     250650052.0   \n",
       "3                                         Titanic     443319081.0   \n",
       "4             Star Wars Ep. I: The Phantom Menace     430443350.0   \n",
       "5                  How the Grinch Stole Christmas     253367455.0   \n",
       "6           Harry Potter and the Sorcerer’s Stone     300404434.0   \n",
       "7                                      Spider-Man     403706375.0   \n",
       "8                                    Finding Nemo     339714367.0   \n",
       "9                                         Shrek 2     441226247.0   \n",
       "10         Star Wars Ep. III: Revenge of the Sith     380270577.0   \n",
       "11     Pirates of the Caribbean: Dead Man’s Chest     423315812.0   \n",
       "12                                   Spider-Man 3     336530303.0   \n",
       "13                                The Dark Knight     531001578.0   \n",
       "14            Transformers: Revenge of the Fallen     402111870.0   \n",
       "15                                    Toy Story 3     415004880.0   \n",
       "16  Harry Potter and the Deathly Hallows: Part II     381011219.0   \n",
       "17                                   The Avengers     623357910.0   \n",
       "18                                     Iron Man 3     408992272.0   \n",
       "19                        Guardians of the Galaxy     333055258.0   \n",
       "20           Star Wars Ep. VII: The Force Awakens     742208942.0   \n",
       "21                                   Finding Dory     486295561.0   \n",
       "22              Star Wars Ep. VIII: The Last Jedi     517218368.0   \n",
       "23                                  Black Panther     700059566.0   \n",
       "24                              Avengers: Endgame     858373000.0   \n",
       "25                              Bad Boys For Life     204417855.0   \n",
       "26      Shang-Chi and the Legend of the Ten Rings     224226704.0   \n",
       "\n",
       "    TOTAL IN 2019 DOLLARS  TICKETS SOLD  \n",
       "0             387522978.0    42306002.0  \n",
       "1             634504608.0    69269062.0  \n",
       "2             500207943.0    54607854.0  \n",
       "3             865842808.0    94524324.0  \n",
       "4             776153749.0    84732942.0  \n",
       "5             430583644.0    47006948.0  \n",
       "6             486166890.0    53074988.0  \n",
       "7             636480273.0    69484746.0  \n",
       "8             516050346.0    56337374.0  \n",
       "9             650826473.0    71050925.0  \n",
       "10            543413171.0    59324582.0  \n",
       "11            591995851.0    64628368.0  \n",
       "12            448054878.0    48914288.0  \n",
       "13            677433772.0    73955652.0  \n",
       "14            491112631.0    53614916.0  \n",
       "15            481805411.0    52598844.0  \n",
       "16            440108798.0    48046812.0  \n",
       "17            717331462.0    78311295.0  \n",
       "18            460808016.0    50306552.0  \n",
       "19            373413235.0    40765637.0  \n",
       "20            806480887.0    88043765.0  \n",
       "21            514967322.0    56219140.0  \n",
       "22            528173936.0    57660910.0  \n",
       "23            703901821.0    76845177.0  \n",
       "24            858373002.0    93708843.0  \n",
       "25            204417848.0    22316359.0  \n",
       "26            224226704.0    24478897.0  "
      ]
     },
     "execution_count": 2,
     "metadata": {},
     "output_type": "execute_result"
    }
   ],
   "source": [
    "#Leemos CSV1 \n",
    "df=pd.read_csv('Csvs/HighestGrossers.csv')\n",
    "df['TOTAL FOR YEAR']=df['TOTAL FOR YEAR'].replace('[\\$,]', '', regex=True).astype(float)\n",
    "df['TOTAL IN 2019 DOLLARS']=df['TOTAL IN 2019 DOLLARS'].replace('[\\$,]', '', regex=True).astype(float)\n",
    "df['TICKETS SOLD']=df['TICKETS SOLD'].replace('[\\$,]', '', regex=True).astype(float)\n",
    "df=df.drop([\"GENRE\",\"MPAA RATING\",\"DISTRIBUTOR\",\"YEAR\"],axis=1)\n",
    "df\n"
   ]
  },
  {
   "cell_type": "code",
   "execution_count": 3,
   "id": "84191b5c",
   "metadata": {},
   "outputs": [
    {
     "data": {
      "text/plain": [
       "array([[-1.46939688, -0.9963188 , -0.9963188 ],\n",
       "       [-0.70649605,  0.48431491,  0.48431491],\n",
       "       [-1.05328081, -0.32078209, -0.32078209],\n",
       "       [ 0.15017093,  1.8711676 ,  1.8711676 ],\n",
       "       [ 0.06974638,  1.33348938,  1.33348937],\n",
       "       [-1.03630733, -0.7381738 , -0.7381738 ],\n",
       "       [-0.74250435, -0.404957  , -0.404957  ],\n",
       "       [-0.09725845,  0.49615885,  0.49615885],\n",
       "       [-0.49696615, -0.22580824, -0.22580824],\n",
       "       [ 0.13709865,  0.58216309,  0.58216309],\n",
       "       [-0.24364343, -0.06177045, -0.06177045],\n",
       "       [ 0.02522626,  0.22947855,  0.22947855],\n",
       "       [-0.51685449, -0.63343525, -0.63343525],\n",
       "       [ 0.69785446,  0.74167157,  0.74167157],\n",
       "       [-0.10721807, -0.37530771, -0.37530771],\n",
       "       [-0.02668559, -0.4311037 , -0.43110369],\n",
       "       [-0.23901723, -0.68107132, -0.68107132],\n",
       "       [ 1.27473176,  0.9808548 ,  0.9808548 ],\n",
       "       [-0.06424162, -0.55698128, -0.55698127],\n",
       "       [-0.53856036, -1.08090551, -1.0809055 ],\n",
       "       [ 2.01710059,  1.51529797,  1.51529797],\n",
       "       [ 0.41861117, -0.23230088, -0.23230088],\n",
       "       [ 0.6117616 , -0.15312836, -0.15312836],\n",
       "       [ 1.75382662,  0.90034526,  0.90034526],\n",
       "       [ 2.742686  ,  1.82638675,  1.82638675],\n",
       "       [-1.34205694, -2.09401837, -2.09401836],\n",
       "       [-1.21832666, -1.97526598, -1.97526602]])"
      ]
     },
     "execution_count": 3,
     "metadata": {},
     "output_type": "execute_result"
    }
   ],
   "source": [
    "Movie = df[\"MOVIE\"]\n",
    "x =df[['TOTAL FOR YEAR','TOTAL IN 2019 DOLLARS','TICKETS SOLD']]\n",
    "x= StandardScaler().fit_transform(x)\n",
    "x"
   ]
  },
  {
   "cell_type": "code",
   "execution_count": 4,
   "id": "a943c0e2",
   "metadata": {},
   "outputs": [
    {
     "data": {
      "text/plain": [
       "array([-2.66453526e-15,  8.88178420e-15,  1.11022302e-15])"
      ]
     },
     "execution_count": 4,
     "metadata": {},
     "output_type": "execute_result"
    }
   ],
   "source": [
    "sum(x)"
   ]
  },
  {
   "cell_type": "code",
   "execution_count": 5,
   "id": "efbc3f47",
   "metadata": {},
   "outputs": [
    {
     "data": {
      "image/png": "[encoded data removed]",
      "text/plain": [
       "<Figure size 432x288 with 1 Axes>"
      ]
     },
     "metadata": {
      "needs_background": "light"
     },
     "output_type": "display_data"
    }
   ],
   "source": [
    "X1=x[:,0]\n",
    "Y1=x[:,1]\n",
    "plt.plot(X1,Y1,\".\")\n",
    "plt.show()"
   ]
  },
  {
   "cell_type": "code",
   "execution_count": 6,
   "id": "cf231cd6",
   "metadata": {},
   "outputs": [
    {
     "data": {
      "image/png": "[encoded data removed]",
      "text/plain": [
       "<Figure size 432x288 with 1 Axes>"
      ]
     },
     "metadata": {
      "needs_background": "light"
     },
     "output_type": "display_data"
    }
   ],
   "source": [
    "X=x[:,1]\n",
    "Y=x[:,2]\n",
    "plt.plot(X,Y,\".\")\n",
    "plt.show()"
   ]
  },
  {
   "cell_type": "code",
   "execution_count": 7,
   "id": "a879e4f5",
   "metadata": {},
   "outputs": [
    {
     "data": {
      "image/png": "[encoded data removed]",
      "text/plain": [
       "<Figure size 432x288 with 1 Axes>"
      ]
     },
     "metadata": {
      "needs_background": "light"
     },
     "output_type": "display_data"
    }
   ],
   "source": [
    "X=x[:,0]\n",
    "Y=x[:,1]\n",
    "plt.plot(X,Y,\".\")\n",
    "for label ,x,y in zip(Movie,X,Y):\n",
    "    plt.annotate(label,xy=(x,y))\n",
    "plt.show()"
   ]
  },
  {
   "cell_type": "code",
   "execution_count": null,
   "id": "f3026702",
   "metadata": {},
   "outputs": [],
   "source": []
  }
 ],
 "metadata": {
  "kernelspec": {
   "display_name": "Python 3 (ipykernel)",
   "language": "python",
   "name": "python3"
  },
  "language_info": {
   "codemirror_mode": {
    "name": "ipython",
    "version": 3
   },
   "file_extension": ".py",
   "mimetype": "text/x-python",
   "name": "python",
   "nbconvert_exporter": "python",
   "pygments_lexer": "ipython3",
   "version": "3.9.0"
  }
 },
 "nbformat": 4,
 "nbformat_minor": 5
}
